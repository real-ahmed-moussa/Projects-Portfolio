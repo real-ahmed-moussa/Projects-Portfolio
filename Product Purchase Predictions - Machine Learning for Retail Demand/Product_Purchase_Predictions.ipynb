{
 "cells": [
  {
   "cell_type": "markdown",
   "metadata": {},
   "source": [
    "# 1. Import Libraries"
   ]
  },
  {
   "cell_type": "code",
   "execution_count": null,
   "metadata": {},
   "outputs": [],
   "source": [
    "import pandas as pd\n",
    "import numpy as np"
   ]
  },
  {
   "cell_type": "markdown",
   "metadata": {},
   "source": [
    "# 2. Load Data"
   ]
  },
  {
   "cell_type": "code",
   "execution_count": null,
   "metadata": {},
   "outputs": [],
   "source": [
    "# 1. Load the Dataset\n",
    "df = pd.read_csv(\"dataset.csv\")\n",
    "\n",
    "# 2. View the Dataset Descriptive Stats\n",
    "df.describe()"
   ]
  },
  {
   "cell_type": "code",
   "execution_count": null,
   "metadata": {},
   "outputs": [],
   "source": [
    "# 3. View First 5 Rows\n",
    "df.head()"
   ]
  },
  {
   "cell_type": "markdown",
   "metadata": {},
   "source": [
    "# 3. Pre-process Data"
   ]
  },
  {
   "cell_type": "markdown",
   "metadata": {},
   "source": [
    "## 3.1. Merge Product Details"
   ]
  },
  {
   "cell_type": "code",
   "execution_count": null,
   "metadata": {},
   "outputs": [],
   "source": [
    "# Define product consolidation mapping\n",
    "product_groups = {\n",
    "    'Brazilian - Organic': ['Brazilian Lg', 'Brazilian Rg', 'Brazilian Sm'],\n",
    "    'Cappuccino': ['Cappuccino Lg'],\n",
    "    'Columbian Medium Roast': ['Columbian Medium Roast Lg', 'Columbian Medium Roast Rg', 'Columbian Medium Roast Sm'],\n",
    "    'Dark chocolate': ['Dark chocolate Lg', 'Dark chocolate Rg'],\n",
    "    'Earl Grey': ['Earl Grey Lg', 'Earl Grey Rg'],\n",
    "    'English Breakfast': ['English Breakfast Lg', 'English Breakfast Rg'],\n",
    "    'Ethiopia': ['Ethiopia Lg', 'Ethiopia Rg', 'Ethiopia Sm'],\n",
    "    'Jamacian Coffee River': ['Jamacian Coffee River', 'Jamaican Coffee River Lg', 'Jamaican Coffee River Rg', 'Jamaican Coffee River Sm'],\n",
    "    'Latte': ['Latte Rg'],\n",
    "    'Lemon Grass': ['Lemon Grass Lg', 'Lemon Grass Rg'],\n",
    "    'Morning Sunrise Chai': ['Morning Sunrise Chai Lg', 'Morning Sunrise Chai Rg'],\n",
    "    'Our Old Time Diner Blend': ['Our Old Time Diner Blend Lg', 'Our Old Time Diner Blend Rg', 'Our Old Time Diner Blend Sm'],\n",
    "    'Peppermint': ['Peppermint Lg', 'Peppermint Rg'],\n",
    "    'Serenity Green Tea': ['Serenity Green Tea Lg', 'Serenity Green Tea Rg'],\n",
    "    'Spicy Eye Opener Chai': ['Spicy Eye Opener Chai Lg', 'Spicy Eye Opener Chai Rg'],\n",
    "    'Sustainably Grown Organic': ['Sustainably Grown Organic Lg', 'Sustainably Grown Organic Rg'],\n",
    "    'Traditional Blend Chai': ['Traditional Blend Chai Lg', 'Traditional Blend Chai Rg']\n",
    "}\n",
    "\n",
    "# Loop through each Group and Apply the Update\n",
    "for main_product, variants in product_groups.items():\n",
    "    try:\n",
    "        # 1. Get Canonical product_id\n",
    "        canonical_id = df.loc[df['product_detail'] == main_product, 'product_id'].iloc[0]\n",
    "\n",
    "        # 2. Update product_detail for Variants\n",
    "        df.loc[df['product_detail'].isin(variants), 'product_detail'] = main_product\n",
    "\n",
    "        # 3. Set product_id for All Rows with the Merged Name\n",
    "        df.loc[df['product_detail'] == main_product, 'product_id'] = canonical_id\n",
    "    except IndexError:\n",
    "        print(f\"Warning: Canonical product_id for '{main_product}' not found in df. Skipped.\")\n"
   ]
  },
  {
   "cell_type": "markdown",
   "metadata": {},
   "source": [
    "## 3.2. Data Aggregation\n",
    "\n",
    "Each row represents one day at a certain store."
   ]
  },
  {
   "cell_type": "code",
   "execution_count": null,
   "metadata": {},
   "outputs": [],
   "source": [
    "# [1] Combine Datetime\n",
    "df['datetime'] = pd.to_datetime(df['transaction_date'] + ' ' + df['transaction_time'])\n",
    "\n",
    "# [2] Extract Date\n",
    "df['date'] = df['datetime'].dt.date\n",
    "\n",
    "# [3] Aggregate Daily Product Totals (across stores)\n",
    "daily_sales = df.groupby(['date', 'product_id', ])['transaction_qty'].sum().reset_index()\n",
    "\n",
    "# [4] Pivot to Wide Format\n",
    "df_wide = daily_sales.pivot(index='date', columns='product_id', values='transaction_qty').fillna(0)\n",
    "df_wide.columns = [f'prod_{col}' for col in df_wide.columns]\n",
    "df_wide.reset_index(inplace=True)\n",
    "\n",
    "# [5] Add Calendar Features\n",
    "df_wide['date'] = pd.to_datetime(df_wide['date'])\n",
    "df_wide['month'] = df_wide['date'].dt.month\n",
    "df_wide['dayofweek'] = df_wide['date'].dt.dayofweek\n",
    "df_wide['is_weekend'] = df_wide['dayofweek'].isin([5, 6]).astype(int)"
   ]
  },
  {
   "cell_type": "code",
   "execution_count": null,
   "metadata": {},
   "outputs": [],
   "source": [
    "df_wide.head()"
   ]
  },
  {
   "cell_type": "markdown",
   "metadata": {},
   "source": [
    "## 3.3. Add Lagging Features"
   ]
  },
  {
   "cell_type": "code",
   "execution_count": null,
   "metadata": {},
   "outputs": [],
   "source": [
    "# [1] Sort by Date\n",
    "df_wide = df_wide.sort_values(by='date')\n",
    "\n",
    "# [2] Define Lag Windows\n",
    "lag_days = [1, 2, 3]\n",
    "\n",
    "# [3] Identify Product Columns (they all start with 'prod_')\n",
    "product_cols = [col for col in df_wide.columns if col.startswith('prod_')]\n",
    "\n",
    "# [4] Add Lag Features for Each Product\n",
    "lagged_cols = {}\n",
    "for col in product_cols:\n",
    "    for lag in lag_days:\n",
    "        lagged_name = f'{col}_lag_{lag}'\n",
    "        lagged_cols[lagged_name] = df_wide[col].shift(lag)\n",
    "\n",
    "# [5] Concatenate Lagged Features\n",
    "df_lags = pd.concat(lagged_cols, axis=1)\n",
    "\n",
    "# [6] Combine with Original DF\n",
    "df_wide = pd.concat([df_wide, df_lags], axis=1)\n",
    "\n",
    "# [5] Drop NaN Rows due to Shifting\n",
    "df_wide.dropna(inplace=True)\n",
    "df_wide.reset_index(drop=True, inplace=True)"
   ]
  },
  {
   "cell_type": "code",
   "execution_count": null,
   "metadata": {},
   "outputs": [],
   "source": [
    "df_wide.head()"
   ]
  },
  {
   "cell_type": "code",
   "execution_count": null,
   "metadata": {},
   "outputs": [],
   "source": [
    "df_wide.to_csv('final_dataset.csv', index=False)"
   ]
  },
  {
   "cell_type": "markdown",
   "metadata": {},
   "source": [
    "# 4. Load and Preprocess the Final Dataset"
   ]
  },
  {
   "cell_type": "markdown",
   "metadata": {},
   "source": [
    "## 4.1. Load the Dataset"
   ]
  },
  {
   "cell_type": "code",
   "execution_count": 4,
   "metadata": {},
   "outputs": [],
   "source": [
    "import pandas as pd\n",
    "import numpy as np\n",
    "\n",
    "df = pd.read_csv('final_dataset.csv')"
   ]
  },
  {
   "cell_type": "markdown",
   "metadata": {},
   "source": [
    "## 4.2. Create X and Y Datasets"
   ]
  },
  {
   "cell_type": "code",
   "execution_count": 5,
   "metadata": {},
   "outputs": [],
   "source": [
    "# [1] Identify Target Columns\n",
    "product_cols = [col for col in df.columns if col.startswith('prod_') and '_lag_' not in col]\n",
    "\n",
    "# [2] Identify Lagged Features\n",
    "lag_cols = [col for col in df.columns if '_lag_' in col]\n",
    "\n",
    "# [3] Identify Calendar Features\n",
    "calendar_cols = ['month', 'dayofweek', 'is_weekend']\n",
    "\n",
    "# [4] Combine Feature Columns\n",
    "x_cols = calendar_cols + lag_cols\n",
    "\n",
    "# [5] Split\n",
    "x = df[x_cols].copy()\n",
    "y = df[product_cols].copy()"
   ]
  },
  {
   "cell_type": "code",
   "execution_count": 6,
   "metadata": {},
   "outputs": [
    {
     "name": "stdout",
     "output_type": "stream",
     "text": [
      "(178, 132)\n",
      "(178, 43)\n"
     ]
    }
   ],
   "source": [
    "print(x.shape)\n",
    "print(y.shape)"
   ]
  },
  {
   "cell_type": "markdown",
   "metadata": {},
   "source": [
    "## 4.3. Split into Training and Testing Datasets"
   ]
  },
  {
   "cell_type": "code",
   "execution_count": 7,
   "metadata": {},
   "outputs": [],
   "source": [
    "from sklearn.model_selection import train_test_split\n",
    "\n",
    "x_train, x_test, y_train, y_test = train_test_split(x, y, test_size=0.2, random_state=42)"
   ]
  },
  {
   "cell_type": "markdown",
   "metadata": {},
   "source": [
    "## 4.4. Normalize X"
   ]
  },
  {
   "cell_type": "code",
   "execution_count": 8,
   "metadata": {},
   "outputs": [],
   "source": [
    "from sklearn.preprocessing import MinMaxScaler\n",
    "\n",
    "scaler = MinMaxScaler()\n",
    "x_train_scaled = scaler.fit_transform(x_train)\n",
    "x_test_scaled = scaler.transform(x_test)"
   ]
  },
  {
   "cell_type": "markdown",
   "metadata": {},
   "source": [
    "## 4.5. Convert to 3d Tensor for CNN-LSTM"
   ]
  },
  {
   "cell_type": "code",
   "execution_count": 9,
   "metadata": {},
   "outputs": [],
   "source": [
    "# [1] Function to Create Sequences\n",
    "def create_sequences(x, y, seq_len = 3):\n",
    "    x_seq, y_seq = [], []\n",
    "\n",
    "    for i in range(seq_len, len(x)):\n",
    "        x_seq.append(x[i-seq_len : i])\n",
    "        y_seq.append(y.iloc[i].values)\n",
    "    \n",
    "    return np.array(x_seq), np.array(y_seq)\n",
    "\n",
    "# [2] Function to Create Train and Test Sequences\n",
    "seq_len = 3\n",
    "x_train_seq, y_train_seq = create_sequences(x_train_scaled, y_train, seq_len)\n",
    "x_test_seq, y_test_seq = create_sequences(x_test_scaled, y_test, seq_len)"
   ]
  },
  {
   "cell_type": "code",
   "execution_count": 10,
   "metadata": {},
   "outputs": [
    {
     "name": "stdout",
     "output_type": "stream",
     "text": [
      "x_train shape: (139, 3, 132)\n",
      "y_train shape: (139, 43)\n"
     ]
    }
   ],
   "source": [
    "print(\"x_train shape:\", x_train_seq.shape)  # (n_train_samples, 3, n_features)\n",
    "print(\"y_train shape:\", y_train_seq.shape)  # (n_train_samples, n_products)"
   ]
  },
  {
   "cell_type": "code",
   "execution_count": 11,
   "metadata": {},
   "outputs": [
    {
     "name": "stdout",
     "output_type": "stream",
     "text": [
      "x_test shape: (33, 3, 132)\n",
      "y_test shape: (33, 43)\n"
     ]
    }
   ],
   "source": [
    "print(\"x_test shape:\", x_test_seq.shape)  # (n_train_samples, 3, n_features)\n",
    "print(\"y_test shape:\", y_test_seq.shape)  # (n_train_samples, n_products)"
   ]
  },
  {
   "cell_type": "markdown",
   "metadata": {},
   "source": [
    "# 5. Prediction Model"
   ]
  },
  {
   "cell_type": "markdown",
   "metadata": {},
   "source": [
    "## 5.1. PyTorch Dataset and DataLoader"
   ]
  },
  {
   "cell_type": "code",
   "execution_count": 12,
   "metadata": {},
   "outputs": [],
   "source": [
    "# Time Series Dataset Function\n",
    "import torch\n",
    "from torch.utils.data import Dataset\n",
    "\n",
    "class TimeSeriesDataset(Dataset):\n",
    "    def __init__(self, x, y):\n",
    "        self.x = torch.tensor(x, dtype=torch.float32)\n",
    "        self.y = torch.tensor(y, dtype=torch.float32)\n",
    "\n",
    "    def __len__(self):\n",
    "        return len(self.x) # Total No. of Sequences\n",
    "\n",
    "    def __getitem__(self, idx):\n",
    "        return self.x[idx], self.y[idx]"
   ]
  },
  {
   "cell_type": "code",
   "execution_count": 13,
   "metadata": {},
   "outputs": [],
   "source": [
    "from torch.utils.data import DataLoader\n",
    "\n",
    "# Create Training and Testing Datasets\n",
    "train_dataset = TimeSeriesDataset(x_train_seq, y_train_seq)\n",
    "test_dataset = TimeSeriesDataset(x_test_seq, y_test_seq)\n",
    "\n",
    "# Create DataLoaders\n",
    "train_loader = DataLoader(train_dataset, batch_size=32, shuffle=True)\n",
    "test_loader = DataLoader(test_dataset, batch_size=32, shuffle=False)"
   ]
  },
  {
   "cell_type": "code",
   "execution_count": 14,
   "metadata": {},
   "outputs": [
    {
     "name": "stdout",
     "output_type": "stream",
     "text": [
      "x Shape:  torch.Size([3, 132])\n",
      "y Shape:  torch.Size([43])\n"
     ]
    }
   ],
   "source": [
    "# Quick Check\n",
    "sample_x, sample_y = train_dataset[0]\n",
    "print(\"x Shape: \", sample_x.shape)\n",
    "print(\"y Shape: \", sample_y.shape)"
   ]
  },
  {
   "cell_type": "markdown",
   "metadata": {},
   "source": [
    "## 5.2. Create CNN+LSTM Class"
   ]
  },
  {
   "cell_type": "code",
   "execution_count": 15,
   "metadata": {},
   "outputs": [],
   "source": [
    "import torch\n",
    "import torch.nn as nn\n",
    "\n",
    "class CNNLSTM(nn.Module):\n",
    "    def __init__(self, input_features, hidden_size, output_size):\n",
    "        super(CNNLSTM, self).__init__()\n",
    "\n",
    "        # CNN: in_channels = features_per_day\n",
    "        self.cnn = nn.Sequential(\n",
    "                                    nn.Conv1d(in_channels=input_features, out_channels=64, kernel_size=3, padding=1),\n",
    "                                    nn.Tanh(),\n",
    "                                    nn.Conv1d(in_channels=64, out_channels=32, kernel_size=3, padding=1),\n",
    "                                    nn.Tanh()\n",
    "        )\n",
    "\n",
    "        # LSTM: input_size=32 (from CNN output channels)\n",
    "        self.lstm = nn.LSTM(input_size=32, hidden_size=hidden_size, batch_first=True)\n",
    "\n",
    "        # Fully Connected: from LSTM Hidden to Output Targets\n",
    "        self.fc = nn.Linear(hidden_size, output_size)\n",
    "    \n",
    "    def forward(self, x):\n",
    "        \"\"\"\n",
    "        x shape: (batch_size, sequence_length, input_features)\n",
    "        \"\"\"\n",
    "\n",
    "        # [1] CNN: Expects (batch_size, in_channels, sequence_length)\n",
    "        x = x.permute(0, 2, 1)                  # shape: (batch_size, input_features, sequence_length)\n",
    "        x = self.cnn(x)                         # shape: (batch_size, 32, sequence_length)\n",
    "        x = x.permute(0, 2, 1)                  # shape: (batch_size, sequence_length, 32)\n",
    "\n",
    "        # [2] LSTM: Expects (batch_size, sequence_length, input_size)\n",
    "        lstm_out, _ = self.lstm(x)              # shape: (batch_size, sequence_length, hidden_size)\n",
    "\n",
    "        # [3] Take Output of the Last Timestep\n",
    "        last_output = lstm_out[:, -1, :]        # shape: (batch_size, hidden_size)\n",
    "\n",
    "        return self.fc(last_output)             # shape: (batch_size, output_size)"
   ]
  },
  {
   "cell_type": "markdown",
   "metadata": {},
   "source": [
    "## 5.3. Model Training"
   ]
  },
  {
   "cell_type": "code",
   "execution_count": 16,
   "metadata": {},
   "outputs": [],
   "source": [
    "import torch\n",
    "import torch.nn as nn\n",
    "import torch.optim as optim\n",
    "\n",
    "input_features = x_train_seq.shape[2]\n",
    "output_size = y_train_seq.shape[1]\n",
    "hidden_size = 64"
   ]
  },
  {
   "cell_type": "code",
   "execution_count": 17,
   "metadata": {},
   "outputs": [],
   "source": [
    "device = torch.device(\"cuda\" if torch.cuda.is_available() else \"cpu\")\n",
    "\n",
    "model = CNNLSTM(input_features=input_features, hidden_size=hidden_size, output_size=output_size)\n",
    "\n",
    "model.to(device)\n",
    "\n",
    "criterion = nn.MSELoss()\n",
    "\n",
    "optimizer = optim.Adam(model.parameters(), lr=0.001)"
   ]
  },
  {
   "cell_type": "markdown",
   "metadata": {},
   "source": [
    "## 5.4. Training Loop"
   ]
  },
  {
   "cell_type": "code",
   "execution_count": 18,
   "metadata": {},
   "outputs": [],
   "source": [
    "def train_model(model, train_loader, test_loader, epochs=20):\n",
    "    train_losses = []\n",
    "    test_losses = []\n",
    "\n",
    "    for epoch in range(epochs):\n",
    "        model.train()\n",
    "        train_loss = 0.0\n",
    "\n",
    "        for x_batch, y_batch in train_loader:\n",
    "            x_batch, y_batch = x_batch.to(device), y_batch.to(device)\n",
    "\n",
    "            optimizer.zero_grad()\n",
    "            y_pred = model(x_batch)\n",
    "            loss = criterion(y_pred, y_batch)\n",
    "            loss.backward()\n",
    "            optimizer.step()\n",
    "\n",
    "            train_loss += loss.item()\n",
    "\n",
    "        train_loss /= len(train_loader)\n",
    "        train_losses.append(train_loss)\n",
    "\n",
    "        # Evaluate on Test Data\n",
    "        model.eval()\n",
    "        test_loss = 0.0\n",
    "        with torch.no_grad():\n",
    "            for x_batch, y_batch in test_loader:\n",
    "                x_batch, y_batch = x_batch.to(device), y_batch.to(device)\n",
    "\n",
    "                y_pred = model(x_batch)\n",
    "                loss = criterion(y_pred, y_batch)\n",
    "\n",
    "                test_loss += loss.item()\n",
    "\n",
    "        test_loss /= len(test_loader)\n",
    "        test_losses.append(test_loss)\n",
    "\n",
    "        print(f\"Epoch {epoch+1:2d} | Train Loss: {train_loss:.4f} | Test Loss: {test_loss:.4f}\")\n",
    "    \n",
    "    return train_losses, test_losses"
   ]
  },
  {
   "cell_type": "code",
   "execution_count": 19,
   "metadata": {},
   "outputs": [
    {
     "name": "stdout",
     "output_type": "stream",
     "text": [
      "Epoch  1 | Train Loss: 1511.7152 | Test Loss: 1152.9878\n",
      "Epoch  2 | Train Loss: 1548.7875 | Test Loss: 1144.9984\n",
      "Epoch  3 | Train Loss: 1479.0968 | Test Loss: 1132.4758\n",
      "Epoch  4 | Train Loss: 1484.2973 | Test Loss: 1115.1133\n",
      "Epoch  5 | Train Loss: 1432.2914 | Test Loss: 1093.4464\n",
      "Epoch  6 | Train Loss: 1385.9169 | Test Loss: 1069.5338\n",
      "Epoch  7 | Train Loss: 1434.6987 | Test Loss: 1045.5361\n",
      "Epoch  8 | Train Loss: 1363.7647 | Test Loss: 1022.7276\n",
      "Epoch  9 | Train Loss: 1414.5491 | Test Loss: 1001.5897\n",
      "Epoch 10 | Train Loss: 1355.3877 | Test Loss: 981.8166\n",
      "Epoch 11 | Train Loss: 1327.6840 | Test Loss: 963.2570\n",
      "Epoch 12 | Train Loss: 1292.9473 | Test Loss: 945.7559\n",
      "Epoch 13 | Train Loss: 1301.5288 | Test Loss: 929.2036\n",
      "Epoch 14 | Train Loss: 1231.5869 | Test Loss: 913.3665\n",
      "Epoch 15 | Train Loss: 1226.0017 | Test Loss: 898.2679\n",
      "Epoch 16 | Train Loss: 1184.3731 | Test Loss: 883.7144\n",
      "Epoch 17 | Train Loss: 1144.7082 | Test Loss: 869.7554\n",
      "Epoch 18 | Train Loss: 1192.2382 | Test Loss: 856.2874\n",
      "Epoch 19 | Train Loss: 1243.2122 | Test Loss: 843.1517\n",
      "Epoch 20 | Train Loss: 1210.0795 | Test Loss: 830.1756\n",
      "Epoch 21 | Train Loss: 1159.8706 | Test Loss: 817.5356\n",
      "Epoch 22 | Train Loss: 1110.8384 | Test Loss: 805.2577\n",
      "Epoch 23 | Train Loss: 1147.7201 | Test Loss: 793.3619\n",
      "Epoch 24 | Train Loss: 1113.3539 | Test Loss: 781.6975\n",
      "Epoch 25 | Train Loss: 1081.0835 | Test Loss: 770.3296\n",
      "Epoch 26 | Train Loss: 1092.6263 | Test Loss: 759.2517\n",
      "Epoch 27 | Train Loss: 1073.2078 | Test Loss: 748.3728\n",
      "Epoch 28 | Train Loss: 1048.0404 | Test Loss: 737.7472\n",
      "Epoch 29 | Train Loss: 1003.6122 | Test Loss: 727.3627\n",
      "Epoch 30 | Train Loss: 1046.3464 | Test Loss: 717.2256\n",
      "Epoch 31 | Train Loss: 1002.5370 | Test Loss: 707.2510\n",
      "Epoch 32 | Train Loss: 1026.7279 | Test Loss: 697.4967\n",
      "Epoch 33 | Train Loss: 983.7911 | Test Loss: 687.8940\n",
      "Epoch 34 | Train Loss: 953.9112 | Test Loss: 678.4465\n",
      "Epoch 35 | Train Loss: 959.4741 | Test Loss: 669.1787\n",
      "Epoch 36 | Train Loss: 974.8472 | Test Loss: 660.1135\n",
      "Epoch 37 | Train Loss: 924.8766 | Test Loss: 651.1346\n",
      "Epoch 38 | Train Loss: 892.1629 | Test Loss: 642.3765\n",
      "Epoch 39 | Train Loss: 878.5707 | Test Loss: 633.8512\n",
      "Epoch 40 | Train Loss: 895.3055 | Test Loss: 625.5023\n",
      "Epoch 41 | Train Loss: 885.5036 | Test Loss: 617.2542\n",
      "Epoch 42 | Train Loss: 893.8913 | Test Loss: 609.1122\n",
      "Epoch 43 | Train Loss: 879.0934 | Test Loss: 601.0770\n",
      "Epoch 44 | Train Loss: 829.1908 | Test Loss: 593.1215\n",
      "Epoch 45 | Train Loss: 863.3676 | Test Loss: 585.3717\n",
      "Epoch 46 | Train Loss: 818.6536 | Test Loss: 577.7342\n",
      "Epoch 47 | Train Loss: 814.9874 | Test Loss: 570.2071\n",
      "Epoch 48 | Train Loss: 794.8345 | Test Loss: 562.8217\n",
      "Epoch 49 | Train Loss: 836.9886 | Test Loss: 555.5819\n",
      "Epoch 50 | Train Loss: 794.7258 | Test Loss: 548.3735\n",
      "Epoch 51 | Train Loss: 811.8711 | Test Loss: 541.2932\n",
      "Epoch 52 | Train Loss: 756.7518 | Test Loss: 534.3076\n",
      "Epoch 53 | Train Loss: 812.3545 | Test Loss: 527.4758\n",
      "Epoch 54 | Train Loss: 798.2850 | Test Loss: 520.6516\n",
      "Epoch 55 | Train Loss: 738.3444 | Test Loss: 513.8995\n",
      "Epoch 56 | Train Loss: 814.3799 | Test Loss: 507.3535\n",
      "Epoch 57 | Train Loss: 740.5784 | Test Loss: 500.7621\n",
      "Epoch 58 | Train Loss: 743.2361 | Test Loss: 494.3321\n",
      "Epoch 59 | Train Loss: 705.6445 | Test Loss: 487.9904\n",
      "Epoch 60 | Train Loss: 729.1204 | Test Loss: 481.7896\n",
      "Epoch 61 | Train Loss: 715.8206 | Test Loss: 475.7038\n",
      "Epoch 62 | Train Loss: 754.7471 | Test Loss: 469.6679\n",
      "Epoch 63 | Train Loss: 683.6238 | Test Loss: 463.6639\n",
      "Epoch 64 | Train Loss: 696.9791 | Test Loss: 457.8033\n",
      "Epoch 65 | Train Loss: 680.4868 | Test Loss: 452.0496\n",
      "Epoch 66 | Train Loss: 650.9717 | Test Loss: 446.4156\n",
      "Epoch 67 | Train Loss: 673.5259 | Test Loss: 440.9219\n",
      "Epoch 68 | Train Loss: 649.2218 | Test Loss: 435.4518\n",
      "Epoch 69 | Train Loss: 646.7978 | Test Loss: 430.0863\n",
      "Epoch 70 | Train Loss: 640.4667 | Test Loss: 424.8172\n",
      "Epoch 71 | Train Loss: 649.0823 | Test Loss: 419.5978\n",
      "Epoch 72 | Train Loss: 637.1802 | Test Loss: 414.4537\n",
      "Epoch 73 | Train Loss: 619.8185 | Test Loss: 409.4124\n",
      "Epoch 74 | Train Loss: 627.4901 | Test Loss: 404.4221\n",
      "Epoch 75 | Train Loss: 594.7646 | Test Loss: 399.4953\n",
      "Epoch 76 | Train Loss: 584.2802 | Test Loss: 394.6863\n",
      "Epoch 77 | Train Loss: 580.8599 | Test Loss: 389.9636\n",
      "Epoch 78 | Train Loss: 590.5901 | Test Loss: 385.3269\n",
      "Epoch 79 | Train Loss: 572.7088 | Test Loss: 380.7498\n",
      "Epoch 80 | Train Loss: 589.7819 | Test Loss: 376.2408\n",
      "Epoch 81 | Train Loss: 589.0726 | Test Loss: 371.7830\n",
      "Epoch 82 | Train Loss: 576.4873 | Test Loss: 367.3900\n",
      "Epoch 83 | Train Loss: 530.3290 | Test Loss: 363.0487\n",
      "Epoch 84 | Train Loss: 557.7307 | Test Loss: 358.8336\n",
      "Epoch 85 | Train Loss: 549.1969 | Test Loss: 354.6746\n",
      "Epoch 86 | Train Loss: 535.3270 | Test Loss: 350.5651\n",
      "Epoch 87 | Train Loss: 544.2646 | Test Loss: 346.5275\n",
      "Epoch 88 | Train Loss: 523.8430 | Test Loss: 342.5387\n",
      "Epoch 89 | Train Loss: 529.8849 | Test Loss: 338.6089\n",
      "Epoch 90 | Train Loss: 536.7683 | Test Loss: 334.7512\n",
      "Epoch 91 | Train Loss: 522.0002 | Test Loss: 330.9159\n",
      "Epoch 92 | Train Loss: 498.3610 | Test Loss: 327.1392\n",
      "Epoch 93 | Train Loss: 558.3652 | Test Loss: 323.4815\n",
      "Epoch 94 | Train Loss: 492.1458 | Test Loss: 319.8022\n",
      "Epoch 95 | Train Loss: 494.9987 | Test Loss: 316.2272\n",
      "Epoch 96 | Train Loss: 487.7306 | Test Loss: 312.7030\n",
      "Epoch 97 | Train Loss: 504.9974 | Test Loss: 309.2603\n",
      "Epoch 98 | Train Loss: 510.1914 | Test Loss: 305.8721\n",
      "Epoch 99 | Train Loss: 487.1084 | Test Loss: 302.5062\n",
      "Epoch 100 | Train Loss: 435.1230 | Test Loss: 299.1887\n",
      "Epoch 101 | Train Loss: 454.8692 | Test Loss: 296.0203\n",
      "Epoch 102 | Train Loss: 443.8935 | Test Loss: 292.9187\n",
      "Epoch 103 | Train Loss: 489.9873 | Test Loss: 289.8902\n",
      "Epoch 104 | Train Loss: 448.2014 | Test Loss: 286.8144\n",
      "Epoch 105 | Train Loss: 448.0021 | Test Loss: 283.8547\n",
      "Epoch 106 | Train Loss: 447.5761 | Test Loss: 280.9422\n",
      "Epoch 107 | Train Loss: 461.0300 | Test Loss: 278.0618\n",
      "Epoch 108 | Train Loss: 409.4296 | Test Loss: 275.2163\n",
      "Epoch 109 | Train Loss: 444.7211 | Test Loss: 272.4628\n",
      "Epoch 110 | Train Loss: 410.4702 | Test Loss: 269.7343\n",
      "Epoch 111 | Train Loss: 402.0608 | Test Loss: 267.0553\n",
      "Epoch 112 | Train Loss: 408.0660 | Test Loss: 264.4476\n",
      "Epoch 113 | Train Loss: 423.0058 | Test Loss: 261.9169\n",
      "Epoch 114 | Train Loss: 420.0321 | Test Loss: 259.3951\n",
      "Epoch 115 | Train Loss: 409.3178 | Test Loss: 256.9218\n",
      "Epoch 116 | Train Loss: 407.5448 | Test Loss: 254.4991\n",
      "Epoch 117 | Train Loss: 386.8058 | Test Loss: 252.1015\n",
      "Epoch 118 | Train Loss: 425.5247 | Test Loss: 249.7695\n",
      "Epoch 119 | Train Loss: 417.3994 | Test Loss: 247.4324\n",
      "Epoch 120 | Train Loss: 388.5346 | Test Loss: 245.1114\n",
      "Epoch 121 | Train Loss: 394.4340 | Test Loss: 242.8586\n",
      "Epoch 122 | Train Loss: 373.0123 | Test Loss: 240.6451\n",
      "Epoch 123 | Train Loss: 381.7972 | Test Loss: 238.5081\n",
      "Epoch 124 | Train Loss: 349.1145 | Test Loss: 236.4040\n",
      "Epoch 125 | Train Loss: 386.8839 | Test Loss: 234.4101\n",
      "Epoch 126 | Train Loss: 383.4173 | Test Loss: 232.3916\n",
      "Epoch 127 | Train Loss: 362.0613 | Test Loss: 230.4355\n",
      "Epoch 128 | Train Loss: 398.7146 | Test Loss: 228.5115\n",
      "Epoch 129 | Train Loss: 359.4736 | Test Loss: 226.5776\n",
      "Epoch 130 | Train Loss: 367.2271 | Test Loss: 224.6832\n",
      "Epoch 131 | Train Loss: 371.1651 | Test Loss: 222.8558\n",
      "Epoch 132 | Train Loss: 350.0066 | Test Loss: 221.0551\n",
      "Epoch 133 | Train Loss: 343.4669 | Test Loss: 219.2918\n",
      "Epoch 134 | Train Loss: 357.0930 | Test Loss: 217.5952\n",
      "Epoch 135 | Train Loss: 385.1992 | Test Loss: 215.9087\n",
      "Epoch 136 | Train Loss: 346.3000 | Test Loss: 214.1978\n",
      "Epoch 137 | Train Loss: 342.3089 | Test Loss: 212.5347\n",
      "Epoch 138 | Train Loss: 353.5497 | Test Loss: 210.9270\n",
      "Epoch 139 | Train Loss: 338.3443 | Test Loss: 209.3509\n",
      "Epoch 140 | Train Loss: 321.5437 | Test Loss: 207.8399\n",
      "Epoch 141 | Train Loss: 330.1617 | Test Loss: 206.3747\n",
      "Epoch 142 | Train Loss: 348.4946 | Test Loss: 204.9357\n",
      "Epoch 143 | Train Loss: 310.6251 | Test Loss: 203.4932\n",
      "Epoch 144 | Train Loss: 324.9106 | Test Loss: 202.1153\n",
      "Epoch 145 | Train Loss: 301.7445 | Test Loss: 200.7637\n",
      "Epoch 146 | Train Loss: 327.9722 | Test Loss: 199.4557\n",
      "Epoch 147 | Train Loss: 337.8495 | Test Loss: 198.1539\n",
      "Epoch 148 | Train Loss: 331.1269 | Test Loss: 196.8724\n",
      "Epoch 149 | Train Loss: 324.2051 | Test Loss: 195.6246\n",
      "Epoch 150 | Train Loss: 312.4776 | Test Loss: 194.3925\n",
      "Epoch 151 | Train Loss: 288.5088 | Test Loss: 193.1901\n",
      "Epoch 152 | Train Loss: 299.2150 | Test Loss: 192.0370\n",
      "Epoch 153 | Train Loss: 311.2166 | Test Loss: 190.9083\n",
      "Epoch 154 | Train Loss: 291.3857 | Test Loss: 189.8030\n",
      "Epoch 155 | Train Loss: 288.3936 | Test Loss: 188.7279\n",
      "Epoch 156 | Train Loss: 293.7793 | Test Loss: 187.6790\n",
      "Epoch 157 | Train Loss: 288.0334 | Test Loss: 186.6749\n",
      "Epoch 158 | Train Loss: 300.4068 | Test Loss: 185.6996\n",
      "Epoch 159 | Train Loss: 288.2019 | Test Loss: 184.7561\n",
      "Epoch 160 | Train Loss: 309.4714 | Test Loss: 183.8272\n",
      "Epoch 161 | Train Loss: 290.1943 | Test Loss: 182.9052\n",
      "Epoch 162 | Train Loss: 265.0529 | Test Loss: 182.0117\n",
      "Epoch 163 | Train Loss: 312.5129 | Test Loss: 181.1506\n",
      "Epoch 164 | Train Loss: 272.1789 | Test Loss: 180.2926\n",
      "Epoch 165 | Train Loss: 287.9266 | Test Loss: 179.4760\n",
      "Epoch 166 | Train Loss: 294.5316 | Test Loss: 178.6706\n",
      "Epoch 167 | Train Loss: 278.6787 | Test Loss: 177.8749\n",
      "Epoch 168 | Train Loss: 293.0084 | Test Loss: 177.0999\n",
      "Epoch 169 | Train Loss: 270.6144 | Test Loss: 176.3469\n",
      "Epoch 170 | Train Loss: 268.5601 | Test Loss: 175.6315\n",
      "Epoch 171 | Train Loss: 271.8971 | Test Loss: 174.9274\n",
      "Epoch 172 | Train Loss: 268.3423 | Test Loss: 174.2466\n",
      "Epoch 173 | Train Loss: 272.1389 | Test Loss: 173.5710\n",
      "Epoch 174 | Train Loss: 260.3233 | Test Loss: 172.9123\n",
      "Epoch 175 | Train Loss: 265.7240 | Test Loss: 172.2653\n",
      "Epoch 176 | Train Loss: 295.5972 | Test Loss: 171.6380\n",
      "Epoch 177 | Train Loss: 250.7249 | Test Loss: 171.0512\n",
      "Epoch 178 | Train Loss: 256.1832 | Test Loss: 170.4743\n",
      "Epoch 179 | Train Loss: 257.8039 | Test Loss: 169.9175\n",
      "Epoch 180 | Train Loss: 274.9879 | Test Loss: 169.3720\n",
      "Epoch 181 | Train Loss: 250.6066 | Test Loss: 168.8518\n",
      "Epoch 182 | Train Loss: 272.4183 | Test Loss: 168.3513\n",
      "Epoch 183 | Train Loss: 250.6849 | Test Loss: 167.8604\n",
      "Epoch 184 | Train Loss: 249.3177 | Test Loss: 167.4093\n",
      "Epoch 185 | Train Loss: 252.6741 | Test Loss: 166.9735\n",
      "Epoch 186 | Train Loss: 254.7876 | Test Loss: 166.5380\n",
      "Epoch 187 | Train Loss: 234.5101 | Test Loss: 166.1301\n",
      "Epoch 188 | Train Loss: 241.4789 | Test Loss: 165.7216\n",
      "Epoch 189 | Train Loss: 240.2623 | Test Loss: 165.3306\n",
      "Epoch 190 | Train Loss: 248.4387 | Test Loss: 164.9357\n",
      "Epoch 191 | Train Loss: 243.3564 | Test Loss: 164.5492\n",
      "Epoch 192 | Train Loss: 229.5245 | Test Loss: 164.2009\n",
      "Epoch 193 | Train Loss: 252.2648 | Test Loss: 163.8387\n",
      "Epoch 194 | Train Loss: 231.6566 | Test Loss: 163.5077\n",
      "Epoch 195 | Train Loss: 227.6056 | Test Loss: 163.1861\n",
      "Epoch 196 | Train Loss: 239.0093 | Test Loss: 162.8765\n",
      "Epoch 197 | Train Loss: 227.1617 | Test Loss: 162.5954\n",
      "Epoch 198 | Train Loss: 253.9728 | Test Loss: 162.3495\n",
      "Epoch 199 | Train Loss: 235.6406 | Test Loss: 162.1042\n",
      "Epoch 200 | Train Loss: 222.1244 | Test Loss: 161.8508\n",
      "Epoch 201 | Train Loss: 221.9242 | Test Loss: 161.6311\n",
      "Epoch 202 | Train Loss: 234.6880 | Test Loss: 161.4127\n",
      "Epoch 203 | Train Loss: 232.1934 | Test Loss: 161.2068\n",
      "Epoch 204 | Train Loss: 226.5152 | Test Loss: 161.0362\n",
      "Epoch 205 | Train Loss: 214.0932 | Test Loss: 160.8435\n",
      "Epoch 206 | Train Loss: 216.6139 | Test Loss: 160.6443\n",
      "Epoch 207 | Train Loss: 220.1444 | Test Loss: 160.4606\n",
      "Epoch 208 | Train Loss: 226.9897 | Test Loss: 160.2703\n",
      "Epoch 209 | Train Loss: 215.9149 | Test Loss: 160.0908\n",
      "Epoch 210 | Train Loss: 210.4556 | Test Loss: 159.9212\n",
      "Epoch 211 | Train Loss: 226.2715 | Test Loss: 159.7672\n",
      "Epoch 212 | Train Loss: 218.7701 | Test Loss: 159.6441\n",
      "Epoch 213 | Train Loss: 221.1723 | Test Loss: 159.5477\n",
      "Epoch 214 | Train Loss: 227.9865 | Test Loss: 159.4255\n",
      "Epoch 215 | Train Loss: 208.3978 | Test Loss: 159.3161\n",
      "Epoch 216 | Train Loss: 222.5376 | Test Loss: 159.2104\n",
      "Epoch 217 | Train Loss: 236.8704 | Test Loss: 159.1231\n",
      "Epoch 218 | Train Loss: 212.1950 | Test Loss: 159.0608\n",
      "Epoch 219 | Train Loss: 201.6676 | Test Loss: 159.0072\n",
      "Epoch 220 | Train Loss: 225.4580 | Test Loss: 158.9349\n",
      "Epoch 221 | Train Loss: 223.7508 | Test Loss: 158.9011\n",
      "Epoch 222 | Train Loss: 213.2742 | Test Loss: 158.8662\n",
      "Epoch 223 | Train Loss: 216.9063 | Test Loss: 158.8509\n",
      "Epoch 224 | Train Loss: 208.8746 | Test Loss: 158.8528\n",
      "Epoch 225 | Train Loss: 216.4105 | Test Loss: 158.8232\n",
      "Epoch 226 | Train Loss: 212.0900 | Test Loss: 158.7933\n",
      "Epoch 227 | Train Loss: 210.0154 | Test Loss: 158.7883\n",
      "Epoch 228 | Train Loss: 208.8603 | Test Loss: 158.7774\n",
      "Epoch 229 | Train Loss: 220.2882 | Test Loss: 158.7864\n",
      "Epoch 230 | Train Loss: 206.5087 | Test Loss: 158.8142\n",
      "Epoch 231 | Train Loss: 201.6073 | Test Loss: 158.8279\n",
      "Epoch 232 | Train Loss: 209.5162 | Test Loss: 158.8294\n",
      "Epoch 233 | Train Loss: 206.9986 | Test Loss: 158.8318\n",
      "Epoch 234 | Train Loss: 221.4639 | Test Loss: 158.8340\n",
      "Epoch 235 | Train Loss: 213.2656 | Test Loss: 158.8681\n",
      "Epoch 236 | Train Loss: 208.2354 | Test Loss: 158.9095\n",
      "Epoch 237 | Train Loss: 217.2014 | Test Loss: 158.9630\n",
      "Epoch 238 | Train Loss: 219.3970 | Test Loss: 159.0283\n",
      "Epoch 239 | Train Loss: 207.7710 | Test Loss: 159.1014\n",
      "Epoch 240 | Train Loss: 204.2195 | Test Loss: 159.2047\n",
      "Epoch 241 | Train Loss: 206.9979 | Test Loss: 159.2916\n",
      "Epoch 242 | Train Loss: 193.9756 | Test Loss: 159.3793\n",
      "Epoch 243 | Train Loss: 188.6546 | Test Loss: 159.4198\n",
      "Epoch 244 | Train Loss: 190.7865 | Test Loss: 159.4519\n",
      "Epoch 245 | Train Loss: 192.6917 | Test Loss: 159.4565\n",
      "Epoch 246 | Train Loss: 201.6280 | Test Loss: 159.4955\n",
      "Epoch 247 | Train Loss: 184.9328 | Test Loss: 159.5620\n",
      "Epoch 248 | Train Loss: 192.8120 | Test Loss: 159.5596\n",
      "Epoch 249 | Train Loss: 195.8094 | Test Loss: 159.5900\n",
      "Epoch 250 | Train Loss: 204.4823 | Test Loss: 159.6460\n",
      "Epoch 251 | Train Loss: 188.4498 | Test Loss: 159.7192\n",
      "Epoch 252 | Train Loss: 194.0972 | Test Loss: 159.7991\n",
      "Epoch 253 | Train Loss: 189.8056 | Test Loss: 159.8879\n",
      "Epoch 254 | Train Loss: 186.7039 | Test Loss: 159.9681\n",
      "Epoch 255 | Train Loss: 198.1824 | Test Loss: 160.0541\n",
      "Epoch 256 | Train Loss: 205.4871 | Test Loss: 160.1541\n",
      "Epoch 257 | Train Loss: 192.4303 | Test Loss: 160.2836\n",
      "Epoch 258 | Train Loss: 199.5152 | Test Loss: 160.4484\n",
      "Epoch 259 | Train Loss: 202.2921 | Test Loss: 160.6246\n",
      "Epoch 260 | Train Loss: 186.3485 | Test Loss: 160.7849\n",
      "Epoch 261 | Train Loss: 197.4219 | Test Loss: 160.8815\n",
      "Epoch 262 | Train Loss: 191.9778 | Test Loss: 160.9708\n",
      "Epoch 263 | Train Loss: 194.6202 | Test Loss: 161.0946\n",
      "Epoch 264 | Train Loss: 185.2106 | Test Loss: 161.2017\n",
      "Epoch 265 | Train Loss: 193.0636 | Test Loss: 161.3242\n",
      "Epoch 266 | Train Loss: 190.1435 | Test Loss: 161.4709\n",
      "Epoch 267 | Train Loss: 185.5893 | Test Loss: 161.6351\n",
      "Epoch 268 | Train Loss: 193.6457 | Test Loss: 161.7594\n",
      "Epoch 269 | Train Loss: 185.5086 | Test Loss: 161.9041\n",
      "Epoch 270 | Train Loss: 190.8446 | Test Loss: 162.0332\n",
      "Epoch 271 | Train Loss: 200.5558 | Test Loss: 162.1823\n",
      "Epoch 272 | Train Loss: 192.4584 | Test Loss: 162.3285\n",
      "Epoch 273 | Train Loss: 196.4459 | Test Loss: 162.4999\n",
      "Epoch 274 | Train Loss: 188.2123 | Test Loss: 162.6547\n",
      "Epoch 275 | Train Loss: 187.4143 | Test Loss: 162.7954\n",
      "Epoch 276 | Train Loss: 188.4313 | Test Loss: 162.9137\n",
      "Epoch 277 | Train Loss: 182.6316 | Test Loss: 163.0412\n",
      "Epoch 278 | Train Loss: 178.9217 | Test Loss: 163.1762\n",
      "Epoch 279 | Train Loss: 201.9219 | Test Loss: 163.2567\n",
      "Epoch 280 | Train Loss: 194.5998 | Test Loss: 163.3924\n",
      "Epoch 281 | Train Loss: 183.6375 | Test Loss: 163.5107\n",
      "Epoch 282 | Train Loss: 186.6529 | Test Loss: 163.6274\n",
      "Epoch 283 | Train Loss: 183.9580 | Test Loss: 163.7678\n",
      "Epoch 284 | Train Loss: 186.7714 | Test Loss: 163.8874\n",
      "Epoch 285 | Train Loss: 195.0620 | Test Loss: 164.0610\n",
      "Epoch 286 | Train Loss: 189.6688 | Test Loss: 164.2689\n",
      "Epoch 287 | Train Loss: 192.4358 | Test Loss: 164.4764\n",
      "Epoch 288 | Train Loss: 189.0671 | Test Loss: 164.6830\n",
      "Epoch 289 | Train Loss: 182.2393 | Test Loss: 164.8337\n",
      "Epoch 290 | Train Loss: 181.8636 | Test Loss: 164.9850\n",
      "Epoch 291 | Train Loss: 178.6449 | Test Loss: 165.1478\n",
      "Epoch 292 | Train Loss: 191.9906 | Test Loss: 165.2661\n",
      "Epoch 293 | Train Loss: 192.4377 | Test Loss: 165.4058\n",
      "Epoch 294 | Train Loss: 183.8418 | Test Loss: 165.5722\n",
      "Epoch 295 | Train Loss: 188.2739 | Test Loss: 165.6986\n",
      "Epoch 296 | Train Loss: 180.3786 | Test Loss: 165.8772\n",
      "Epoch 297 | Train Loss: 189.7121 | Test Loss: 166.0033\n",
      "Epoch 298 | Train Loss: 180.8495 | Test Loss: 166.1516\n",
      "Epoch 299 | Train Loss: 187.7992 | Test Loss: 166.3037\n",
      "Epoch 300 | Train Loss: 179.3365 | Test Loss: 166.4905\n"
     ]
    }
   ],
   "source": [
    "# Train the Model\n",
    "train_losses, test_losses = train_model(model, train_loader, test_loader, epochs=300)"
   ]
  },
  {
   "cell_type": "markdown",
   "metadata": {},
   "source": [
    "## 5.5. Plot Losses"
   ]
  },
  {
   "cell_type": "code",
   "execution_count": 20,
   "metadata": {},
   "outputs": [
    {
     "data": {
      "image/png": "[encoded data removed]",
      "text/plain": [
       "<Figure size 1000x500 with 1 Axes>"
      ]
     },
     "metadata": {},
     "output_type": "display_data"
    }
   ],
   "source": [
    "import matplotlib.pyplot as plt\n",
    "\n",
    "plt.figure(figsize=(10, 5))\n",
    "plt.plot(train_losses, label='Train Loss')\n",
    "plt.plot(test_losses, label='Test Loss')\n",
    "plt.title(\"Training vs. Testing Loss\")\n",
    "plt.xlabel(\"Epoch\")\n",
    "plt.ylabel(\"MSE Loss\")\n",
    "plt.legend()\n",
    "plt.grid(True)\n",
    "plt.show()\n"
   ]
  },
  {
   "cell_type": "markdown",
   "metadata": {},
   "source": [
    "## 5.6. Loss per Product"
   ]
  },
  {
   "cell_type": "code",
   "execution_count": 21,
   "metadata": {},
   "outputs": [],
   "source": [
    "model.eval()                                        # set to evaluation mode\n",
    "y_preds = []\n",
    "\n",
    "with torch.no_grad():                               # disables gradient computation\n",
    "    for X_batch, _ in test_loader:\n",
    "        X_batch = X_batch.to(device)                # send to GPU if available\n",
    "        y_pred = model(X_batch)                     # shape: (batch_size, n_products)\n",
    "        y_preds.append(y_pred.cpu().numpy())        # move to CPU and convert to numpy\n",
    "\n",
    "y_pred_all = np.concatenate(y_preds, axis=0)        # shape: (total_test_samples, n_products)"
   ]
  },
  {
   "cell_type": "code",
   "execution_count": 22,
   "metadata": {},
   "outputs": [
    {
     "name": "stdout",
     "output_type": "stream",
     "text": [
      "Predictions shape: (33, 43)\n",
      "Targets shape: (33, 43)\n"
     ]
    }
   ],
   "source": [
    "print(\"Predictions shape:\", y_pred_all.shape)\n",
    "print(\"Targets shape:\", y_test_seq.shape)"
   ]
  },
  {
   "cell_type": "code",
   "execution_count": 23,
   "metadata": {},
   "outputs": [
    {
     "name": "stdout",
     "output_type": "stream",
     "text": [
      "📦 Product 1: MAE = 22.98\n",
      "📦 Product 2: MAE = 22.41\n",
      "📦 Product 3: MAE = 0.96\n",
      "📦 Product 4: MAE = 0.66\n",
      "📦 Product 5: MAE = 20.37\n",
      "📦 Product 6: MAE = 24.02\n",
      "📦 Product 7: MAE = 18.32\n",
      "📦 Product 8: MAE = 1.95\n",
      "📦 Product 9: MAE = 1.18\n",
      "📦 Product 10: MAE = 0.78\n",
      "📦 Product 11: MAE = 15.57\n",
      "📦 Product 12: MAE = 15.59\n",
      "📦 Product 13: MAE = 13.76\n",
      "📦 Product 14: MAE = 15.11\n",
      "📦 Product 15: MAE = 16.54\n",
      "📦 Product 16: MAE = 16.78\n",
      "📦 Product 17: MAE = 17.04\n",
      "📦 Product 18: MAE = 17.77\n",
      "📦 Product 19: MAE = 15.39\n",
      "📦 Product 20: MAE = 17.52\n",
      "📦 Product 21: MAE = 0.86\n",
      "📦 Product 22: MAE = 7.66\n",
      "📦 Product 23: MAE = 13.56\n",
      "📦 Product 24: MAE = 12.73\n",
      "📦 Product 25: MAE = 11.35\n",
      "📦 Product 26: MAE = 8.80\n",
      "📦 Product 27: MAE = 11.17\n",
      "📦 Product 28: MAE = 3.79\n",
      "📦 Product 29: MAE = 2.85\n",
      "📦 Product 30: MAE = 6.10\n",
      "📦 Product 31: MAE = 6.94\n",
      "📦 Product 32: MAE = 3.33\n",
      "📦 Product 33: MAE = 3.58\n",
      "📦 Product 34: MAE = 3.42\n",
      "📦 Product 35: MAE = 3.49\n",
      "📦 Product 36: MAE = 3.70\n",
      "📦 Product 37: MAE = 3.59\n",
      "📦 Product 38: MAE = 3.61\n",
      "📦 Product 39: MAE = 1.12\n",
      "📦 Product 40: MAE = 1.37\n",
      "📦 Product 41: MAE = 1.44\n",
      "📦 Product 42: MAE = 11.08\n",
      "📦 Product 43: MAE = 8.69\n"
     ]
    }
   ],
   "source": [
    "from sklearn.metrics import mean_absolute_error\n",
    "import numpy as np\n",
    "\n",
    "n_products = y_test_seq.shape[1]\n",
    "\n",
    "mae_per_product = []\n",
    "rmse_per_product = []\n",
    "\n",
    "for i in range(n_products):\n",
    "    y_true = y_test_seq[:, i]\n",
    "    y_pred = y_pred_all[:, i]\n",
    "\n",
    "    mae = mean_absolute_error(y_true, y_pred)\n",
    "\n",
    "    mae_per_product.append(mae)\n",
    "\n",
    "    print(f\"📦 Product {i+1}: MAE = {mae:.2f}\")\n"
   ]
  },
  {
   "cell_type": "code",
   "execution_count": null,
   "metadata": {},
   "outputs": [],
   "source": []
  }
 ],
 "metadata": {
  "kernelspec": {
   "display_name": "Python 3.10.8 ('pytorch_venv': venv)",
   "language": "python",
   "name": "python3"
  },
  "language_info": {
   "codemirror_mode": {
    "name": "ipython",
    "version": 3
   },
   "file_extension": ".py",
   "mimetype": "text/x-python",
   "name": "python",
   "nbconvert_exporter": "python",
   "pygments_lexer": "ipython3",
   "version": "3.10.8"
  },
  "orig_nbformat": 4,
  "vscode": {
   "interpreter": {
    "hash": "12601079a068f98c8791dab2ee933b8ec92ba06a0f2447d32c8cfa2590f14d3d"
   }
  }
 },
 "nbformat": 4,
 "nbformat_minor": 2
}

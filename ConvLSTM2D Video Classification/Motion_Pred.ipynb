{
 "cells": [
  {
   "cell_type": "markdown",
   "metadata": {},
   "source": [
    "# Import Libraries"
   ]
  },
  {
   "cell_type": "code",
   "execution_count": 27,
   "metadata": {},
   "outputs": [],
   "source": [
    "import os\n",
    "import cv2\n",
    "import numpy as np\n",
    "import matplotlib.pyplot as plt\n",
    "\n",
    "from tensorflow.keras.models import Sequential\n",
    "from tensorflow.keras.layers import ConvLSTM2D, MaxPooling3D, TimeDistributed, Dropout\n",
    "from tensorflow.keras.layers import Flatten, Dense, BatchNormalization, Bidirectional, LSTM\n",
    "from tensorflow.keras.callbacks import EarlyStopping, TensorBoard\n",
    "\n",
    "\n",
    "from tensorflow.keras.utils import to_categorical\n",
    "from sklearn.model_selection import train_test_split"
   ]
  },
  {
   "cell_type": "markdown",
   "metadata": {},
   "source": [
    "# 1. Code Configurations"
   ]
  },
  {
   "cell_type": "code",
   "execution_count": 7,
   "metadata": {},
   "outputs": [],
   "source": [
    "VIDEO_DIR = \"UCF50\"\n",
    "FRAMES_PER_CLIP = 25\n",
    "IMAGE_SIZE = (64, 64)"
   ]
  },
  {
   "cell_type": "markdown",
   "metadata": {},
   "source": [
    "# 2. Select Action Recognition Categories"
   ]
  },
  {
   "cell_type": "code",
   "execution_count": 8,
   "metadata": {},
   "outputs": [],
   "source": [
    "# Choose actions to train on\n",
    "selected_actions = [\"Basketball\", \"Biking\", \"HorseRiding\"]"
   ]
  },
  {
   "cell_type": "code",
   "execution_count": 4,
   "metadata": {},
   "outputs": [],
   "source": [
    "# Setup the labels dictionary for the selected actions\n",
    "label_dict = {}                                                     # {'action_name': idx}\n",
    "for idx, action in enumerate(selected_actions):\n",
    "    label_dict[action] = idx"
   ]
  },
  {
   "cell_type": "markdown",
   "metadata": {},
   "source": [
    "# 3. Extract Video Frames"
   ]
  },
  {
   "cell_type": "code",
   "execution_count": 5,
   "metadata": {},
   "outputs": [],
   "source": [
    "# This function extracts a specific number of evenly-spaced frames from a video file\n",
    "def extract_video_frames(filepath):\n",
    "    # Open the video file using OpenCV's VideoCapture\n",
    "    capture = cv2.VideoCapture(filepath)\n",
    "    # Get the total number of frames in the video\n",
    "    total_frames = int(capture.get(cv2.CAP_PROP_FRAME_COUNT))\n",
    "    \n",
    "    # If the video has fewer frames than needed, return None\n",
    "    if total_frames < FRAMES_PER_CLIP:\n",
    "        capture.release()\n",
    "        return None\n",
    "\n",
    "    # Create an array of evenly-spaced frame indices to extract\n",
    "    selected_frames = np.linspace(0, total_frames-1, FRAMES_PER_CLIP, dtype=int)\n",
    "    frames_list = []                                                # list of frames\n",
    "\n",
    "    # Loop through each selected frame index\n",
    "    for frame_num in selected_frames:\n",
    "        # Set the video position to the current frame number\n",
    "        capture.set(cv2.CAP_PROP_POS_FRAMES, frame_num)\n",
    "        # Read the frame at the current position\n",
    "        success, frame = capture.read()\n",
    "        # If frame couldn't be read, abort and return None\n",
    "        if not success:\n",
    "            capture.release()\n",
    "            return None\n",
    "        # Resize the frame to the dimensions specified by IMAGE_SIZE\n",
    "        frame_resized = cv2.resize(frame, IMAGE_SIZE)\n",
    "        # Add the resized frame to the collection\n",
    "        frames_list.append(frame_resized)\n",
    "\n",
    "    # Properly close the video file\n",
    "    capture.release()\n",
    "    \n",
    "    # Return the collection of frames as a NumPy array\n",
    "    return np.array(frames_list)"
   ]
  },
  {
   "cell_type": "markdown",
   "metadata": {},
   "source": [
    "# 4. Create the Dataset"
   ]
  },
  {
   "cell_type": "code",
   "execution_count": 9,
   "metadata": {},
   "outputs": [],
   "source": [
    "# Initialize empty lists to store processed video data and corresponding labels\n",
    "all_videos, all_labels = [], []\n",
    "\n",
    "# Iterate through each action category and its assigned ID from the label dictionary\n",
    "for action, action_id in label_dict.items():\n",
    "    # Construct the path to the folder containing videos for the current action\n",
    "    action_folder = os.path.join(VIDEO_DIR, action)\n",
    "    \n",
    "    # Iterate through each video file in the current action folder\n",
    "    for vid_file in os.listdir(action_folder):\n",
    "        # Create the full path to the current video file\n",
    "        clip_path = os.path.join(action_folder, vid_file)\n",
    "        \n",
    "        # Extract frames from the current video using the extraction function\n",
    "        frames = extract_video_frames(clip_path)\n",
    "        \n",
    "        # Only process videos that returned valid frames\n",
    "        if frames is not None:\n",
    "            all_videos.append(frames)                               # Add the extracted frames to our collection of processed videos\n",
    "            all_labels.append(action_id)                            # Store the corresponding action ID (label) for this video"
   ]
  },
  {
   "cell_type": "markdown",
   "metadata": {},
   "source": [
    "# 5. Data Pre-processing"
   ]
  },
  {
   "cell_type": "code",
   "execution_count": 10,
   "metadata": {},
   "outputs": [],
   "source": [
    "# Convert the list of videos to a numpy array and normalize pixel values\n",
    "all_videos = np.array(all_videos).astype('float32') / 255.0\n",
    "\n",
    "# Convert integer labels to one-hot encoded vectors\n",
    "all_labels = to_categorical(all_labels, num_classes=len(label_dict))"
   ]
  },
  {
   "cell_type": "markdown",
   "metadata": {},
   "source": [
    "# 6. Data Preparation"
   ]
  },
  {
   "cell_type": "code",
   "execution_count": 11,
   "metadata": {},
   "outputs": [],
   "source": [
    "# Split data\n",
    "train_videos, test_videos, train_labels, test_labels = train_test_split(all_videos, all_labels, test_size=0.25, random_state=123, stratify=all_labels)"
   ]
  },
  {
   "cell_type": "code",
   "execution_count": 12,
   "metadata": {},
   "outputs": [],
   "source": [
    "# Input shape handling\n",
    "train_videos = train_videos.reshape(-1, FRAMES_PER_CLIP, IMAGE_SIZE[0], IMAGE_SIZE[1], 3)\n",
    "test_videos = test_videos.reshape(-1, FRAMES_PER_CLIP, IMAGE_SIZE[0], IMAGE_SIZE[1], 3)"
   ]
  },
  {
   "cell_type": "markdown",
   "metadata": {},
   "source": [
    "# 7. Model Architecture"
   ]
  },
  {
   "cell_type": "code",
   "execution_count": 73,
   "metadata": {},
   "outputs": [],
   "source": [
    "def create_convlstm_model():\n",
    "    '''\n",
    "    This function creates a ConvLSTM model for video classification.\n",
    "    The model combines ConvLSTM2D layers for spatio-temporal feature extraction with additional layers for better performance.\n",
    "    \n",
    "    Returns:\n",
    "        model: The constructed improved ConvLSTM model.\n",
    "    '''\n",
    "    \n",
    "    # 1. Initialize a Sequential model\n",
    "    model = Sequential()\n",
    "    \n",
    "    # 2. Model Architecture\n",
    "    # ---------------------\n",
    "    # 2.1. ConvLSTM2D Layer 1 - with Batch Normalization\n",
    "    model.add(ConvLSTM2D(filters=4, kernel_size=(3, 3), activation='tanh',\n",
    "                         data_format='channels_last', recurrent_dropout=0.2, return_sequences=True,\n",
    "                         input_shape=(FRAMES_PER_CLIP, IMAGE_SIZE[0], IMAGE_SIZE[1], 3)))\n",
    "    model.add(BatchNormalization())\n",
    "    model.add(MaxPooling3D(pool_size=(1, 2, 2), padding='same', data_format='channels_last'))\n",
    "    model.add(TimeDistributed(Dropout(0.2)))\n",
    "    \n",
    "    # 2.2. ConvLSTM2D Layer 2 - with Batch Normalization\n",
    "    model.add(ConvLSTM2D(filters=8, kernel_size=(3, 3), activation='tanh',\n",
    "                         data_format='channels_last', recurrent_dropout=0.2, return_sequences=True))\n",
    "    model.add(BatchNormalization())\n",
    "    model.add(MaxPooling3D(pool_size=(1, 2, 2), padding='same', data_format='channels_last'))\n",
    "    model.add(TimeDistributed(Dropout(0.2)))\n",
    "    \n",
    "    # 2.3. ConvLSTM2D Layer 3 - with Batch Normalization\n",
    "    model.add(ConvLSTM2D(filters=16, kernel_size=(3, 3), activation='tanh',\n",
    "                         data_format='channels_last', recurrent_dropout=0.2, return_sequences=True))\n",
    "    model.add(BatchNormalization())\n",
    "    model.add(MaxPooling3D(pool_size=(1, 2, 2), padding='same', data_format='channels_last'))\n",
    "    model.add(TimeDistributed(Dropout(0.2)))\n",
    "    \n",
    "    # 2.4. ConvLSTM2D Layer 4 - with Batch Normalization\n",
    "    model.add(ConvLSTM2D(filters=32, kernel_size=(3, 3), activation='tanh',\n",
    "                         data_format='channels_last', recurrent_dropout=0.2, return_sequences=True))\n",
    "    model.add(BatchNormalization())\n",
    "    model.add(MaxPooling3D(pool_size=(1, 2, 2), padding='same', data_format='channels_last'))\n",
    "    model.add(TimeDistributed(Dropout(0.2)))\n",
    "    \n",
    "    # 2.5. Add regular LSTM layer to further process temporal data\n",
    "    model.add(Flatten())                                       # Flatten the output of the ConvLSTM layers\n",
    "    \n",
    "    # 2.6. Fully Connected Dense Layer for Classification\n",
    "    model.add(Dense(256, activation='tanh'))\n",
    "    model.add(Dropout(0.4))\n",
    "    model.add(Dense(len(label_dict), activation='softmax'))\n",
    "    # ---------------------\n",
    "    \n",
    "    # 3. Display the model summary\n",
    "    model.summary()\n",
    "    \n",
    "    return model"
   ]
  },
  {
   "cell_type": "markdown",
   "metadata": {},
   "source": [
    "# 8. Compile the Model"
   ]
  },
  {
   "cell_type": "code",
   "execution_count": 74,
   "metadata": {},
   "outputs": [
    {
     "name": "stdout",
     "output_type": "stream",
     "text": [
      "Model: \"sequential_12\"\n",
      "_________________________________________________________________\n",
      " Layer (type)                Output Shape              Param #   \n",
      "=================================================================\n",
      " conv_lstm2d_39 (ConvLSTM2D  (None, 25, 62, 62, 4)     1024      \n",
      " )                                                               \n",
      "                                                                 \n",
      " batch_normalization_29 (Ba  (None, 25, 62, 62, 4)     16        \n",
      " tchNormalization)                                               \n",
      "                                                                 \n",
      " max_pooling3d_39 (MaxPooli  (None, 25, 31, 31, 4)     0         \n",
      " ng3D)                                                           \n",
      "                                                                 \n",
      " time_distributed_41 (TimeD  (None, 25, 31, 31, 4)     0         \n",
      " istributed)                                                     \n",
      "                                                                 \n",
      " conv_lstm2d_40 (ConvLSTM2D  (None, 25, 29, 29, 8)     3488      \n",
      " )                                                               \n",
      "                                                                 \n",
      " batch_normalization_30 (Ba  (None, 25, 29, 29, 8)     32        \n",
      " tchNormalization)                                               \n",
      "                                                                 \n",
      " max_pooling3d_40 (MaxPooli  (None, 25, 15, 15, 8)     0         \n",
      " ng3D)                                                           \n",
      "                                                                 \n",
      " time_distributed_42 (TimeD  (None, 25, 15, 15, 8)     0         \n",
      " istributed)                                                     \n",
      "                                                                 \n",
      " conv_lstm2d_41 (ConvLSTM2D  (None, 25, 13, 13, 16)    13888     \n",
      " )                                                               \n",
      "                                                                 \n",
      " batch_normalization_31 (Ba  (None, 25, 13, 13, 16)    64        \n",
      " tchNormalization)                                               \n",
      "                                                                 \n",
      " max_pooling3d_41 (MaxPooli  (None, 25, 7, 7, 16)      0         \n",
      " ng3D)                                                           \n",
      "                                                                 \n",
      " time_distributed_43 (TimeD  (None, 25, 7, 7, 16)      0         \n",
      " istributed)                                                     \n",
      "                                                                 \n",
      " conv_lstm2d_42 (ConvLSTM2D  (None, 25, 5, 5, 32)      55424     \n",
      " )                                                               \n",
      "                                                                 \n",
      " batch_normalization_32 (Ba  (None, 25, 5, 5, 32)      128       \n",
      " tchNormalization)                                               \n",
      "                                                                 \n",
      " max_pooling3d_42 (MaxPooli  (None, 25, 3, 3, 32)      0         \n",
      " ng3D)                                                           \n",
      "                                                                 \n",
      " time_distributed_44 (TimeD  (None, 25, 3, 3, 32)      0         \n",
      " istributed)                                                     \n",
      "                                                                 \n",
      " flatten_8 (Flatten)         (None, 7200)              0         \n",
      "                                                                 \n",
      " dense_16 (Dense)            (None, 256)               1843456   \n",
      "                                                                 \n",
      " dropout_42 (Dropout)        (None, 256)               0         \n",
      "                                                                 \n",
      " dense_17 (Dense)            (None, 3)                 771       \n",
      "                                                                 \n",
      "=================================================================\n",
      "Total params: 1918291 (7.32 MB)\n",
      "Trainable params: 1918171 (7.32 MB)\n",
      "Non-trainable params: 120 (480.00 Byte)\n",
      "_________________________________________________________________\n"
     ]
    }
   ],
   "source": [
    "# Create the ConvLSTM model\n",
    "convlstm_model = create_convlstm_model()"
   ]
  },
  {
   "cell_type": "code",
   "execution_count": 75,
   "metadata": {},
   "outputs": [],
   "source": [
    "# Compile the model\n",
    "convlstm_model.compile(\n",
    "    optimizer='adam',\n",
    "    loss='categorical_crossentropy',\n",
    "    metrics=['accuracy']\n",
    ")"
   ]
  },
  {
   "cell_type": "code",
   "execution_count": 76,
   "metadata": {},
   "outputs": [],
   "source": [
    "# Add Callbacks\n",
    "# 1. Early Stopping Callback\n",
    "early_stopping = EarlyStopping(\n",
    "    monitor='val_loss',\n",
    "    patience=15,  # Number of epochs with no improvement after which training will stop\n",
    "    restore_best_weights=True,\n",
    "    verbose=1\n",
    ")\n",
    "\n",
    "# 2. TensorBoard - visualize training metrics\n",
    "tensorboard = TensorBoard(\n",
    "    log_dir='./logs',\n",
    "    histogram_freq=1\n",
    ")\n",
    "\n",
    "call_backs = [early_stopping, tensorboard]"
   ]
  },
  {
   "cell_type": "markdown",
   "metadata": {},
   "source": [
    "# 9. Train the Model"
   ]
  },
  {
   "cell_type": "code",
   "execution_count": 77,
   "metadata": {},
   "outputs": [
    {
     "name": "stdout",
     "output_type": "stream",
     "text": [
      "Epoch 1/50\n",
      "88/88 [==============================] - 61s 580ms/step - loss: 1.7144 - accuracy: 0.4217 - val_loss: 1.5382 - val_accuracy: 0.4153\n",
      "Epoch 2/50\n",
      "88/88 [==============================] - 51s 575ms/step - loss: 1.2114 - accuracy: 0.4900 - val_loss: 1.4261 - val_accuracy: 0.4153\n",
      "Epoch 3/50\n",
      "88/88 [==============================] - 49s 560ms/step - loss: 1.0799 - accuracy: 0.5584 - val_loss: 1.7485 - val_accuracy: 0.4153\n",
      "Epoch 4/50\n",
      "88/88 [==============================] - 49s 554ms/step - loss: 1.0623 - accuracy: 0.5726 - val_loss: 1.3883 - val_accuracy: 0.4153\n",
      "Epoch 5/50\n",
      "88/88 [==============================] - 49s 557ms/step - loss: 0.9859 - accuracy: 0.5954 - val_loss: 1.2303 - val_accuracy: 0.4407\n",
      "Epoch 6/50\n",
      "88/88 [==============================] - 51s 571ms/step - loss: 0.9006 - accuracy: 0.6325 - val_loss: 1.0882 - val_accuracy: 0.4915\n",
      "Epoch 7/50\n",
      "88/88 [==============================] - 49s 557ms/step - loss: 0.8541 - accuracy: 0.6325 - val_loss: 0.9597 - val_accuracy: 0.5254\n",
      "Epoch 8/50\n",
      "88/88 [==============================] - 49s 554ms/step - loss: 0.7268 - accuracy: 0.6980 - val_loss: 0.8489 - val_accuracy: 0.6356\n",
      "Epoch 9/50\n",
      "88/88 [==============================] - 49s 555ms/step - loss: 0.7436 - accuracy: 0.6895 - val_loss: 0.8989 - val_accuracy: 0.5847\n",
      "Epoch 10/50\n",
      "88/88 [==============================] - 49s 561ms/step - loss: 0.7274 - accuracy: 0.7037 - val_loss: 0.8535 - val_accuracy: 0.6441\n",
      "Epoch 11/50\n",
      "88/88 [==============================] - 49s 555ms/step - loss: 0.5544 - accuracy: 0.7778 - val_loss: 0.8713 - val_accuracy: 0.5932\n",
      "Epoch 12/50\n",
      "88/88 [==============================] - 50s 566ms/step - loss: 0.6125 - accuracy: 0.7635 - val_loss: 0.6221 - val_accuracy: 0.7458\n",
      "Epoch 13/50\n",
      "88/88 [==============================] - 48s 550ms/step - loss: 0.6005 - accuracy: 0.7578 - val_loss: 0.7353 - val_accuracy: 0.7203\n",
      "Epoch 14/50\n",
      "88/88 [==============================] - 48s 547ms/step - loss: 0.5341 - accuracy: 0.8091 - val_loss: 0.8737 - val_accuracy: 0.6186\n",
      "Epoch 15/50\n",
      "88/88 [==============================] - 48s 547ms/step - loss: 0.4575 - accuracy: 0.8262 - val_loss: 0.7369 - val_accuracy: 0.6610\n",
      "Epoch 16/50\n",
      "88/88 [==============================] - 48s 545ms/step - loss: 0.4438 - accuracy: 0.8319 - val_loss: 0.7166 - val_accuracy: 0.6780\n",
      "Epoch 17/50\n",
      "88/88 [==============================] - 48s 550ms/step - loss: 0.4085 - accuracy: 0.8604 - val_loss: 0.6115 - val_accuracy: 0.7458\n",
      "Epoch 18/50\n",
      "88/88 [==============================] - 48s 547ms/step - loss: 0.4021 - accuracy: 0.8490 - val_loss: 0.4843 - val_accuracy: 0.7881\n",
      "Epoch 19/50\n",
      "88/88 [==============================] - 48s 547ms/step - loss: 0.3459 - accuracy: 0.8689 - val_loss: 0.6269 - val_accuracy: 0.7034\n",
      "Epoch 20/50\n",
      "88/88 [==============================] - 48s 551ms/step - loss: 0.3683 - accuracy: 0.8405 - val_loss: 0.9189 - val_accuracy: 0.6949\n",
      "Epoch 21/50\n",
      "88/88 [==============================] - 48s 550ms/step - loss: 0.3111 - accuracy: 0.8974 - val_loss: 0.4671 - val_accuracy: 0.8136\n",
      "Epoch 22/50\n",
      "88/88 [==============================] - 48s 551ms/step - loss: 0.3280 - accuracy: 0.8832 - val_loss: 0.6643 - val_accuracy: 0.7458\n",
      "Epoch 23/50\n",
      "88/88 [==============================] - 48s 542ms/step - loss: 0.3529 - accuracy: 0.8718 - val_loss: 0.5827 - val_accuracy: 0.8305\n",
      "Epoch 24/50\n",
      "88/88 [==============================] - 49s 557ms/step - loss: 0.3401 - accuracy: 0.8803 - val_loss: 0.3403 - val_accuracy: 0.8729\n",
      "Epoch 25/50\n",
      "88/88 [==============================] - 48s 547ms/step - loss: 0.2291 - accuracy: 0.9316 - val_loss: 0.3513 - val_accuracy: 0.8729\n",
      "Epoch 26/50\n",
      "88/88 [==============================] - 48s 545ms/step - loss: 0.1653 - accuracy: 0.9430 - val_loss: 0.2321 - val_accuracy: 0.9322\n",
      "Epoch 27/50\n",
      "88/88 [==============================] - 48s 541ms/step - loss: 0.1880 - accuracy: 0.9202 - val_loss: 0.3311 - val_accuracy: 0.8644\n",
      "Epoch 28/50\n",
      "88/88 [==============================] - 48s 542ms/step - loss: 0.2171 - accuracy: 0.9031 - val_loss: 0.5490 - val_accuracy: 0.8136\n",
      "Epoch 29/50\n",
      "88/88 [==============================] - 48s 543ms/step - loss: 0.3000 - accuracy: 0.8946 - val_loss: 0.5719 - val_accuracy: 0.8390\n",
      "Epoch 30/50\n",
      "88/88 [==============================] - 48s 543ms/step - loss: 0.1628 - accuracy: 0.9402 - val_loss: 0.3587 - val_accuracy: 0.8559\n",
      "Epoch 31/50\n",
      "88/88 [==============================] - 48s 543ms/step - loss: 0.1361 - accuracy: 0.9601 - val_loss: 0.4499 - val_accuracy: 0.8305\n",
      "Epoch 32/50\n",
      "88/88 [==============================] - 48s 545ms/step - loss: 0.1186 - accuracy: 0.9544 - val_loss: 0.3476 - val_accuracy: 0.8898\n",
      "Epoch 33/50\n",
      "88/88 [==============================] - 48s 542ms/step - loss: 0.1910 - accuracy: 0.9259 - val_loss: 0.6532 - val_accuracy: 0.8305\n",
      "Epoch 34/50\n",
      "88/88 [==============================] - 48s 549ms/step - loss: 0.2139 - accuracy: 0.9231 - val_loss: 0.4011 - val_accuracy: 0.8729\n",
      "Epoch 35/50\n",
      "88/88 [==============================] - 48s 541ms/step - loss: 0.1769 - accuracy: 0.9316 - val_loss: 0.3812 - val_accuracy: 0.8898\n",
      "Epoch 36/50\n",
      "88/88 [==============================] - 48s 543ms/step - loss: 0.1020 - accuracy: 0.9630 - val_loss: 0.3045 - val_accuracy: 0.9068\n",
      "Epoch 37/50\n",
      "88/88 [==============================] - 48s 547ms/step - loss: 0.1199 - accuracy: 0.9487 - val_loss: 0.6827 - val_accuracy: 0.7797\n",
      "Epoch 38/50\n",
      "88/88 [==============================] - 49s 554ms/step - loss: 0.1145 - accuracy: 0.9544 - val_loss: 0.5586 - val_accuracy: 0.7542\n",
      "Epoch 39/50\n",
      "88/88 [==============================] - 49s 557ms/step - loss: 0.1062 - accuracy: 0.9573 - val_loss: 0.4254 - val_accuracy: 0.8729\n",
      "Epoch 40/50\n",
      "88/88 [==============================] - 48s 548ms/step - loss: 0.1447 - accuracy: 0.9373 - val_loss: 0.2889 - val_accuracy: 0.8729\n",
      "Epoch 41/50\n",
      "88/88 [==============================] - ETA: 0s - loss: 0.1082 - accuracy: 0.9658Restoring model weights from the end of the best epoch: 26.\n",
      "88/88 [==============================] - 48s 549ms/step - loss: 0.1082 - accuracy: 0.9658 - val_loss: 0.4765 - val_accuracy: 0.8220\n",
      "Epoch 41: early stopping\n"
     ]
    }
   ],
   "source": [
    "# 10. Train (Batch Size & Epochs Modified)\n",
    "history = convlstm_model.fit(train_videos, train_labels,\n",
    "                             validation_data=(test_videos, test_labels),\n",
    "                             epochs=50, batch_size=4,\n",
    "                             shuffle=True, validation_split=0.2,\n",
    "                             callbacks=call_backs, verbose=1)"
   ]
  },
  {
   "cell_type": "markdown",
   "metadata": {},
   "source": [
    "# 10. Plot Results"
   ]
  },
  {
   "cell_type": "code",
   "execution_count": 78,
   "metadata": {},
   "outputs": [
    {
     "data": {
      "image/png": "[encoded data removed]",
      "text/plain": [
       "<Figure size 1400x500 with 2 Axes>"
      ]
     },
     "metadata": {},
     "output_type": "display_data"
    }
   ],
   "source": [
    "# Direct Plotting (Different Colors/Styles)\n",
    "fig, ax = plt.subplots(1, 2, figsize=(14, 5))\n",
    "\n",
    "\n",
    "# Accuracy\n",
    "ax[0].plot(history.history['accuracy'], color='green', linestyle='--', label='Train Acc')\n",
    "ax[0].plot(history.history['val_accuracy'], color='purple', label='Val Acc')\n",
    "ax[0].legend()\n",
    "ax[0].set_title('Model Accuracy')\n",
    "ax[0].set_xlabel('Epoch')\n",
    "ax[0].set_ylabel('Accuracy')\n",
    "\n",
    "# Loss\n",
    "ax[1].plot(history.history['loss'], color='red', linestyle='--', label='Train Loss')\n",
    "ax[1].plot(history.history['val_loss'], color='blue', label='Val Loss')\n",
    "ax[1].legend()\n",
    "ax[1].set_title('Model Loss')\n",
    "ax[1].set_xlabel('Epoch')\n",
    "ax[1].set_ylabel('Loss')\n",
    "\n",
    "plt.show()"
   ]
  },
  {
   "cell_type": "markdown",
   "metadata": {},
   "source": [
    "# 11. Final Evaluation"
   ]
  },
  {
   "cell_type": "code",
   "execution_count": 79,
   "metadata": {},
   "outputs": [
    {
     "name": "stdout",
     "output_type": "stream",
     "text": [
      "4/4 [==============================] - 2s 440ms/step - loss: 0.2321 - accuracy: 0.9322\n"
     ]
    }
   ],
   "source": [
    "# Evaluate the model on the test set\n",
    "res = convlstm_model.evaluate(test_videos, test_labels)"
   ]
  },
  {
   "cell_type": "code",
   "execution_count": 80,
   "metadata": {},
   "outputs": [
    {
     "data": {
      "text/plain": [
       "[0.23214639723300934, 0.9322034120559692]"
      ]
     },
     "execution_count": 80,
     "metadata": {},
     "output_type": "execute_result"
    }
   ],
   "source": [
    "# Print the evaluation results\n",
    "res"
   ]
  },
  {
   "cell_type": "markdown",
   "metadata": {},
   "source": [
    "# 12. Save the Model"
   ]
  },
  {
   "cell_type": "code",
   "execution_count": 81,
   "metadata": {},
   "outputs": [
    {
     "name": "stderr",
     "output_type": "stream",
     "text": [
      "/home/ahmedmoussa/tfx_venv/lib/python3.10/site-packages/keras/src/engine/training.py:3103: UserWarning: You are saving your model as an HDF5 file via `model.save()`. This file format is considered legacy. We recommend using instead the native Keras format, e.g. `model.save('my_model.keras')`.\n",
      "  saving_api.save_model(\n"
     ]
    }
   ],
   "source": [
    "# 13. Save (Optional, renamed for difference)\n",
    "convlstm_model.save(\"action_classifier_model_v2.h5\")"
   ]
  },
  {
   "cell_type": "code",
   "execution_count": null,
   "metadata": {},
   "outputs": [],
   "source": []
  }
 ],
 "metadata": {
  "kernelspec": {
   "display_name": "tfx_venv",
   "language": "python",
   "name": "python3"
  },
  "language_info": {
   "codemirror_mode": {
    "name": "ipython",
    "version": 3
   },
   "file_extension": ".py",
   "mimetype": "text/x-python",
   "name": "python",
   "nbconvert_exporter": "python",
   "pygments_lexer": "ipython3",
   "version": "3.10.8"
  }
 },
 "nbformat": 4,
 "nbformat_minor": 2
}
